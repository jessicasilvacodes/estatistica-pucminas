{
  "nbformat": 4,
  "nbformat_minor": 0,
  "metadata": {
    "colab": {
      "provenance": [],
      "authorship_tag": "ABX9TyPgZpFpzRhDSjgNqCxJVjNx",
      "include_colab_link": true
    },
    "kernelspec": {
      "name": "python3",
      "display_name": "Python 3"
    },
    "language_info": {
      "name": "python"
    }
  },
  "cells": [
    {
      "cell_type": "markdown",
      "metadata": {
        "id": "view-in-github",
        "colab_type": "text"
      },
      "source": [
        "<a href=\"https://colab.research.google.com/github/jessicasilvacodes/estatistica-pucminas/blob/main/amostragem_distribuicao_pucminas_JessicaSilva.ipynb\" target=\"_parent\"><img src=\"https://colab.research.google.com/assets/colab-badge.svg\" alt=\"Open In Colab\"/></a>"
      ]
    },
    {
      "cell_type": "markdown",
      "source": [
        "### CURSO: CIÊNCIA DE DADOS APLICADA À SAÚDE | PUC MINAS\n",
        "\n",
        "### DISCIPLINA: TÉCNICAS DE AMOSTRAGEM E MODELOS DE REGRESSÃO\n",
        "\n",
        "### MÓDULO: FUNDAMENTOS DE AMOSTRAGEM E DISTRIBUIÇÃO\n",
        "\n",
        "EXERCÍCIOS:\n",
        "\n",
        "- TAMANHO AMOSTRAL\n",
        "- INTERVALO DE CONFIANÇA"
      ],
      "metadata": {
        "id": "iBWNzk3rd1UU"
      }
    },
    {
      "cell_type": "markdown",
      "source": [
        "# TAMANHO AMOSTRAL"
      ],
      "metadata": {
        "id": "g0eX4Ez6gVFT"
      }
    },
    {
      "cell_type": "markdown",
      "source": [
        "### Exercício de tamanho amostral para **média**:"
      ],
      "metadata": {
        "id": "IlclE8zLerQm"
      }
    },
    {
      "cell_type": "markdown",
      "source": [
        "Uma pesquisa é planejada para determinar as despesas médicas anuais das famílias dos empregados de uma empresa. A gerência da empresa deseja ter 95% de confiança de que a média da amostra esteja no máximo a uma distância de 50,00 reais média real das despesas médicas familiares. Um estudo-piloto indica que o desvio padrão pode ser considerado como sendo igual a R\\$400,00.\n",
        "\n",
        "Parâmetro a ser estimado: Média das despesas médicas anuais.\n",
        "\n",
        "Dados do enunciado:\n",
        "\n",
        "-   Nível de confiança: 0,95\n",
        "\n",
        "-   Margem de erro: R\\$50,00\n",
        "\n",
        "-   Desvio padrão populacional estimado: R\\$400,00"
      ],
      "metadata": {
        "id": "1WNqGIKee1Ut"
      }
    },
    {
      "cell_type": "markdown",
      "source": [
        "A ) Qual o tamanho de amostra necessário?"
      ],
      "metadata": {
        "id": "SCdk2cvZe4LE"
      }
    },
    {
      "cell_type": "code",
      "execution_count": 1,
      "metadata": {
        "id": "tZUERc4ybLE_"
      },
      "outputs": [],
      "source": [
        "import math\n",
        "from scipy.stats import norm"
      ]
    },
    {
      "cell_type": "code",
      "source": [
        "nivel_confianca = 0.95\n",
        "margem_erro = 50\n",
        "desvio_padrao = 400"
      ],
      "metadata": {
        "id": "56hO1vkhe6Rt"
      },
      "execution_count": 3,
      "outputs": []
    },
    {
      "cell_type": "code",
      "source": [
        "# Z-score correspondente ao nível de confiança\n",
        "z_score = norm.ppf((1 + nivel_confianca) / 2)\n",
        "z_score"
      ],
      "metadata": {
        "colab": {
          "base_uri": "https://localhost:8080/"
        },
        "id": "ZR8bJC3Qe_Dw",
        "outputId": "f8d5c03b-b39c-41ec-ab3e-849d0327a3c4"
      },
      "execution_count": 7,
      "outputs": [
        {
          "output_type": "execute_result",
          "data": {
            "text/plain": [
              "np.float64(1.959963984540054)"
            ]
          },
          "metadata": {},
          "execution_count": 7
        }
      ]
    },
    {
      "cell_type": "code",
      "source": [
        "# tamanho da amostra\n",
        "tamanho_amostra = (z_score * (desvio_padrao / margem_erro)) ** 2\n",
        "tamanho_amostra"
      ],
      "metadata": {
        "colab": {
          "base_uri": "https://localhost:8080/"
        },
        "id": "4GeRldvWfCxc",
        "outputId": "107103b6-f722-4bab-ec07-baa2ac92af67"
      },
      "execution_count": 8,
      "outputs": [
        {
          "output_type": "execute_result",
          "data": {
            "text/plain": [
              "np.float64(245.85336452442402)"
            ]
          },
          "metadata": {},
          "execution_count": 8
        }
      ]
    },
    {
      "cell_type": "code",
      "source": [
        "print(f'O tamanho da amostra necessário é aproximadamente {math.ceil(tamanho_amostra)}.')"
      ],
      "metadata": {
        "colab": {
          "base_uri": "https://localhost:8080/"
        },
        "id": "V9tmMz15fD5U",
        "outputId": "f38b9ecd-d9dd-4966-e40f-ff655be649d9"
      },
      "execution_count": 6,
      "outputs": [
        {
          "output_type": "stream",
          "name": "stdout",
          "text": [
            "O tamanho da amostra necessário é aproximadamente 246.\n"
          ]
        }
      ]
    },
    {
      "cell_type": "markdown",
      "source": [
        "B) Se a gerência deseja estar certa em uma margem de erro de R$25,00, que tamanho de amostra será necessário?"
      ],
      "metadata": {
        "id": "KT2zwYHpfOj-"
      }
    },
    {
      "cell_type": "code",
      "source": [
        "nivel_confianca = 0.95\n",
        "margem_erro = 25\n",
        "desvio_padrao = 400"
      ],
      "metadata": {
        "id": "xkKlGDZ2fFOJ"
      },
      "execution_count": 9,
      "outputs": []
    },
    {
      "cell_type": "code",
      "source": [
        "z_score = norm.ppf((1 + nivel_confianca) / 2)\n",
        "z_score"
      ],
      "metadata": {
        "colab": {
          "base_uri": "https://localhost:8080/"
        },
        "id": "OF34ZDGhfaTg",
        "outputId": "f19255a3-7735-4c21-d9a4-4bf2d35646da"
      },
      "execution_count": 15,
      "outputs": [
        {
          "output_type": "execute_result",
          "data": {
            "text/plain": [
              "np.float64(1.7506860712521692)"
            ]
          },
          "metadata": {},
          "execution_count": 15
        }
      ]
    },
    {
      "cell_type": "code",
      "source": [
        "tamanho_amostra = (z_score * (desvio_padrao / margem_erro)) ** 2\n",
        "tamanho_amostra"
      ],
      "metadata": {
        "colab": {
          "base_uri": "https://localhost:8080/"
        },
        "id": "70mzvwrufc5F",
        "outputId": "5a2a6227-1913-4fa5-f3b8-25a287cf44ad"
      },
      "execution_count": 16,
      "outputs": [
        {
          "output_type": "execute_result",
          "data": {
            "text/plain": [
              "np.float64(196.15371008488674)"
            ]
          },
          "metadata": {},
          "execution_count": 16
        }
      ]
    },
    {
      "cell_type": "code",
      "source": [
        "print(f'O tamanho da amostra necessário é aproximadamente {math.ceil(tamanho_amostra)}.')"
      ],
      "metadata": {
        "colab": {
          "base_uri": "https://localhost:8080/"
        },
        "id": "Xqe-6RUAfffw",
        "outputId": "325cd664-b627-4632-e3e9-b973da19ad28"
      },
      "execution_count": 13,
      "outputs": [
        {
          "output_type": "stream",
          "name": "stdout",
          "text": [
            "O tamanho da amostra necessário é aproximadamente 984.\n"
          ]
        }
      ]
    },
    {
      "cell_type": "markdown",
      "source": [
        "\n",
        "Quando o tamanho da população é conhecido e relativamente grande em comparação com o tamanho da amostra, é apropriado usar a correção para a população finita. Nesse caso, a fórmula para calcular o tamanho da amostra é ajustada para levar em consideração o tamanho da população.\n",
        "\n",
        "A fórmula ajustada para o tamanho da amostra com correção para população finita é:\n",
        "$$ n = \\frac{{Z^2 \\cdot \\sigma^2 \\cdot N}}{{Z^2 \\cdot \\sigma^2 + (N - 1) \\cdot E^2}}\n",
        "$$\n",
        "\n",
        "Onde:\n",
        "\n",
        "- \\( n \\) é o tamanho da amostra necessário,\n",
        "- \\( Z \\) é o escore z correspondente ao nível de confiança,\n",
        "- \\(σ) é o desvio padrão populacional,\n",
        "- \\( N \\) é o tamanho da população, e\n",
        "- \\( E \\) é a margem de erro."
      ],
      "metadata": {
        "id": "_T2iXyEofkVi"
      }
    },
    {
      "cell_type": "code",
      "source": [
        "nivel_confianca = 0.92\n",
        "margem_erro = 50\n",
        "desvio_padrao = 400"
      ],
      "metadata": {
        "id": "XQe63Zr3ffzi"
      },
      "execution_count": 14,
      "outputs": []
    },
    {
      "cell_type": "code",
      "source": [
        "# tamanho populacional conhecido\n",
        "n_empregados = 386"
      ],
      "metadata": {
        "id": "sYC_NUUnfpbB"
      },
      "execution_count": 17,
      "outputs": []
    },
    {
      "cell_type": "code",
      "source": [
        "z_score = norm.ppf((1 + nivel_confianca) / 2)\n",
        "z_score"
      ],
      "metadata": {
        "colab": {
          "base_uri": "https://localhost:8080/"
        },
        "id": "NeBXE4nafvjb",
        "outputId": "c7225c51-a9e2-4984-f86a-c36e7a4caa2c"
      },
      "execution_count": 18,
      "outputs": [
        {
          "output_type": "execute_result",
          "data": {
            "text/plain": [
              "np.float64(1.7506860712521692)"
            ]
          },
          "metadata": {},
          "execution_count": 18
        }
      ]
    },
    {
      "cell_type": "code",
      "source": [
        "tamanho_amostra = (z_score**2 * desvio_padrao**2 * n_empregados) / ((z_score**2 * desvio_padrao**2) + ((n_empregados - 1) * margem_erro**2))\n",
        "tamanho_amostra"
      ],
      "metadata": {
        "colab": {
          "base_uri": "https://localhost:8080/"
        },
        "id": "k9hW7AmtfxH8",
        "outputId": "c4b9c675-ac23-4a59-af7e-6df636eefbe0"
      },
      "execution_count": 19,
      "outputs": [
        {
          "output_type": "execute_result",
          "data": {
            "text/plain": [
              "np.float64(130.28451987634534)"
            ]
          },
          "metadata": {},
          "execution_count": 19
        }
      ]
    },
    {
      "cell_type": "code",
      "source": [
        "print(f'C) O tamanho de amostra necessário para 92% de confiança, considerando a população finita, é aproximadamente {math.ceil(tamanho_amostra)}.')"
      ],
      "metadata": {
        "colab": {
          "base_uri": "https://localhost:8080/"
        },
        "id": "-do0qR2Bf0dY",
        "outputId": "2a2c7cb8-43e3-4453-b216-91993d23ef07"
      },
      "execution_count": 20,
      "outputs": [
        {
          "output_type": "stream",
          "name": "stdout",
          "text": [
            "C) O tamanho de amostra necessário para 92% de confiança, considerando a população finita, é aproximadamente 131.\n"
          ]
        }
      ]
    },
    {
      "cell_type": "markdown",
      "source": [
        "### Exercício de tamanho amostral para **proporção**:"
      ],
      "metadata": {
        "id": "KYtoOwUDf6k7"
      }
    },
    {
      "cell_type": "markdown",
      "source": [
        "O reitor de uma universidade deseja estimar com uma margem de erro de 5% e um nível de confiança de 99%, a proporção de estudantes matriculados nos programas de MBA que fizeram graduação em Sistemas de Informação. Sabe-se que, atualmente, há 550 alunos fazendo MBA. Qual tamanho mínimo de amostra deve ser coletado?\n",
        "\n",
        "A ) Estima-se que a proporção populacional seja de 23%."
      ],
      "metadata": {
        "id": "CwLCbbZfgAFT"
      }
    },
    {
      "cell_type": "code",
      "source": [
        "p_estimado = 0.23\n",
        "E = 0.05\n",
        "nivel_confianca = 0.99"
      ],
      "metadata": {
        "id": "fXCCs_F1f12o"
      },
      "execution_count": 21,
      "outputs": []
    },
    {
      "cell_type": "code",
      "source": [
        "# encontrando o valor de Z para o nível de confiança especificado\n",
        "Z = norm.ppf((1 + nivel_confianca) / 2)\n",
        "Z"
      ],
      "metadata": {
        "colab": {
          "base_uri": "https://localhost:8080/"
        },
        "id": "lr7xmst4gFS4",
        "outputId": "e6e8c0d3-ef69-4fc6-87d8-e1bcbb998be6"
      },
      "execution_count": 23,
      "outputs": [
        {
          "output_type": "execute_result",
          "data": {
            "text/plain": [
              "np.float64(2.5758293035489004)"
            ]
          },
          "metadata": {},
          "execution_count": 23
        }
      ]
    },
    {
      "cell_type": "code",
      "source": [
        "# calculando o tamanho amostral necessário\n",
        "n_estimado = ((Z**2) * p_estimado * (1 - p_estimado)) / (E**2)\n",
        "n_estimado"
      ],
      "metadata": {
        "colab": {
          "base_uri": "https://localhost:8080/"
        },
        "id": "ltbWmB4lgHra",
        "outputId": "a101b467-6bb9-458f-9ad6-5f8d1b4eeff8"
      },
      "execution_count": 24,
      "outputs": [
        {
          "output_type": "execute_result",
          "data": {
            "text/plain": [
              "np.float64(470.0160752163427)"
            ]
          },
          "metadata": {},
          "execution_count": 24
        }
      ]
    },
    {
      "cell_type": "markdown",
      "source": [
        "B)  Não há base para estimar o valor aproximado da proporção populacional."
      ],
      "metadata": {
        "id": "RysLXFmugL2-"
      }
    },
    {
      "cell_type": "code",
      "source": [
        "p_estimado = 0.5\n",
        "E = 0.05\n",
        "nivel_confianca = 0.99"
      ],
      "metadata": {
        "id": "aM7feYmrgJqU"
      },
      "execution_count": 25,
      "outputs": []
    },
    {
      "cell_type": "code",
      "source": [
        "Z = norm.ppf((1 + nivel_confianca) / 2)\n",
        "Z"
      ],
      "metadata": {
        "colab": {
          "base_uri": "https://localhost:8080/"
        },
        "id": "64-C7Fa3gOce",
        "outputId": "bf3883c4-367c-4a2d-ae13-821f55a4f521"
      },
      "execution_count": 27,
      "outputs": [
        {
          "output_type": "execute_result",
          "data": {
            "text/plain": [
              "np.float64(2.5758293035489004)"
            ]
          },
          "metadata": {},
          "execution_count": 27
        }
      ]
    },
    {
      "cell_type": "code",
      "source": [
        "n_estimado = ((Z**2) * p_estimado * (1 - p_estimado)) / (E**2)\n",
        "n_estimado"
      ],
      "metadata": {
        "colab": {
          "base_uri": "https://localhost:8080/"
        },
        "id": "AYM25d6fgQT1",
        "outputId": "00819f05-26bc-42de-c095-d34523ee73db"
      },
      "execution_count": 28,
      "outputs": [
        {
          "output_type": "execute_result",
          "data": {
            "text/plain": [
              "np.float64(663.4896601021212)"
            ]
          },
          "metadata": {},
          "execution_count": 28
        }
      ]
    },
    {
      "cell_type": "markdown",
      "source": [
        "# INTERVALO DE CONFIANÇA"
      ],
      "metadata": {
        "id": "L7Wi6eMugbe0"
      }
    },
    {
      "cell_type": "markdown",
      "source": [
        "### Intervalo de confiança para média com σ conhecido:"
      ],
      "metadata": {
        "id": "vAwPe8yBgdvy"
      }
    },
    {
      "cell_type": "code",
      "source": [
        "import scipy.stats as st\n",
        "import numpy as np"
      ],
      "metadata": {
        "id": "vKZoAKjSgg7t"
      },
      "execution_count": 35,
      "outputs": []
    },
    {
      "cell_type": "markdown",
      "source": [
        "**Exercício 1:**"
      ],
      "metadata": {
        "id": "VAFnCRgLhK1z"
      }
    },
    {
      "cell_type": "markdown",
      "source": [
        "Em uma indústria de cerveja, a quantidade de cerveja inserida em latas tem-se comportado como uma variável aleatória distribuída normalmente com média 350 ml e desvio padrão 3 ml. Após alguns problemas na linha de produção, suspeita-se que houve alteração na média. Uma amostra de 120 latas acusou média 346 ml. Encontre a estimativa pontual e construa um intervalo de confiança para o novo valor da quantidade média de cerveja inserida em latas, com nível de confiança de 95%, supondo que não tenha ocorrido alteração no desvio padrão do processo.\n",
        "\n",
        "X: Quantidade média de cerveja inserida nas latas (em ml).\n",
        "\n",
        "Dados disponíveis no enunciado:\n",
        "\n",
        "-   X \\~ N(350,3²)\n",
        "\n",
        "-   n=120 latas → Tamanho da amostra\n",
        "\n",
        "-   media=346ml → Quantidade média observada na amostra → Estimativa pontual!\n",
        "\n",
        "-   σ=3ml → Desvio padrão da população de cervejas produzidas pela empresa.\n",
        "\n",
        "-   1-α=0,95 → Nível de confiança\n"
      ],
      "metadata": {
        "id": "evagz96bgndt"
      }
    },
    {
      "cell_type": "code",
      "source": [
        "media = 346\n",
        "sigma = 3\n",
        "alpha = 0.05\n",
        "n = 120"
      ],
      "metadata": {
        "id": "u1p3wOWHgmBk"
      },
      "execution_count": 31,
      "outputs": []
    },
    {
      "cell_type": "code",
      "source": [
        "# valor crítico Z\n",
        "zc = stats.norm.ppf(1 - alpha/2)\n",
        "zc"
      ],
      "metadata": {
        "colab": {
          "base_uri": "https://localhost:8080/"
        },
        "id": "ULiDqIXlgpA2",
        "outputId": "ee96a9e0-e654-49ec-9976-8e3675bd2f66"
      },
      "execution_count": 32,
      "outputs": [
        {
          "output_type": "execute_result",
          "data": {
            "text/plain": [
              "np.float64(1.959963984540054)"
            ]
          },
          "metadata": {},
          "execution_count": 32
        }
      ]
    },
    {
      "cell_type": "code",
      "source": [
        "# erro amostral\n",
        "erro = zc * sigma / (n ** 0.5)\n",
        "erro"
      ],
      "metadata": {
        "colab": {
          "base_uri": "https://localhost:8080/"
        },
        "id": "g2fd3Ppwgqum",
        "outputId": "6899e9cd-aec2-4281-cb43-6130213c6d1b"
      },
      "execution_count": 33,
      "outputs": [
        {
          "output_type": "execute_result",
          "data": {
            "text/plain": [
              "np.float64(0.5367582431151471)"
            ]
          },
          "metadata": {},
          "execution_count": 33
        }
      ]
    },
    {
      "cell_type": "markdown",
      "source": [
        "A) construa o intervalo para μ com 95% de confiança:"
      ],
      "metadata": {
        "id": "YB51RGtEgu6r"
      }
    },
    {
      "cell_type": "code",
      "source": [
        "intervalo_confianca = (media - erro, media + erro)\n",
        "print(intervalo_confianca)"
      ],
      "metadata": {
        "colab": {
          "base_uri": "https://localhost:8080/"
        },
        "id": "b6JYnVnzguvr",
        "outputId": "4c2b7b44-9488-4360-97a7-2bcdaa007b9b"
      },
      "execution_count": 34,
      "outputs": [
        {
          "output_type": "stream",
          "name": "stdout",
          "text": [
            "(np.float64(345.4632417568848), np.float64(346.5367582431152))\n"
          ]
        }
      ]
    },
    {
      "cell_type": "markdown",
      "source": [
        "Resultado = [345.46 ; 346.54]"
      ],
      "metadata": {
        "id": "qEcngiDLg2nB"
      }
    },
    {
      "cell_type": "markdown",
      "source": [
        "Podemos afirmar com 95% de confiança que o intervalo 345.46 ml a 346.54 ml contem o verdadeiro valor da quantidade média de cerveja inserida nas latas."
      ],
      "metadata": {
        "id": "zm5J-Y8fg54H"
      }
    },
    {
      "cell_type": "markdown",
      "source": [
        "**Exercício 2:**"
      ],
      "metadata": {
        "id": "dgop8UjYhQL1"
      }
    },
    {
      "cell_type": "markdown",
      "source": [
        "O diretor do comitê de admissão de uma universidade deseja estimar a média de idade de todos os estudantes aprovados no momento. Sabe-se que, de levantamentos anteriores, o desvio padrão da população é de 1,5 ano. Em uma amostra aleatória de 20 estudantes, a idade média encontrada foi de 22,9 anos.\n",
        "\n",
        "X: Idade de todos os estudantes aprovados .\n",
        "\n",
        "Dados disponíveis no enunciado:\n",
        "\n",
        "- n=20 estudantes → Tamanho da amostra\n",
        "\n",
        "- media= 22,9 anos→ Quantidade média observada na amostra\n",
        "\n",
        "- σ= 1,5 ano → Desvio padrão da população.\n",
        "\n"
      ],
      "metadata": {
        "id": "X5wUhHqPhUTy"
      }
    },
    {
      "cell_type": "markdown",
      "source": [
        "A)  Com base nessa amostra, qual é a estimativa pontual da idade média dos estudantes aprovados?"
      ],
      "metadata": {
        "id": "sIMhKs_Ihg1x"
      }
    },
    {
      "cell_type": "code",
      "source": [
        "n = 20  # tamanho da amostra\n",
        "media_amostral = 22.9  # média observada\n",
        "sigma = 1.5  # desvio padrão populacional"
      ],
      "metadata": {
        "id": "Z6-X6yr6gsjq"
      },
      "execution_count": 36,
      "outputs": []
    },
    {
      "cell_type": "code",
      "source": [
        "estimativa_pontual = media_amostral\n",
        "print(f\"A estimativa pontual da idade média dos estudantes aprovados é {estimativa_pontual} anos.\")"
      ],
      "metadata": {
        "colab": {
          "base_uri": "https://localhost:8080/"
        },
        "id": "myszGzHWhwFV",
        "outputId": "9daee8a5-00ce-4566-8c56-769d3ba08121"
      },
      "execution_count": 37,
      "outputs": [
        {
          "output_type": "stream",
          "name": "stdout",
          "text": [
            "A estimativa pontual da idade média dos estudantes aprovados é 22.9 anos.\n"
          ]
        }
      ]
    },
    {
      "cell_type": "markdown",
      "source": [
        "\n",
        "B)  Construa um intervalo de 90% de confiança para a idade média da população."
      ],
      "metadata": {
        "id": "-CsplgC1hi9o"
      }
    },
    {
      "cell_type": "code",
      "source": [
        "alpha = 0.10  # nível de significância (10%)\n",
        "z_score = st.norm.ppf(1 - alpha/2)  # valor crítico da distribuição normal padrão\n",
        "z_score"
      ],
      "metadata": {
        "colab": {
          "base_uri": "https://localhost:8080/"
        },
        "id": "zqCMmjVqhkO_",
        "outputId": "1bf41689-3d4e-4e73-828c-327cad34c004"
      },
      "execution_count": 38,
      "outputs": [
        {
          "output_type": "execute_result",
          "data": {
            "text/plain": [
              "np.float64(1.6448536269514722)"
            ]
          },
          "metadata": {},
          "execution_count": 38
        }
      ]
    },
    {
      "cell_type": "code",
      "source": [
        "# cálculo do erro padrão\n",
        "erro_padrao = sigma / np.sqrt(n)\n",
        "erro_padrao"
      ],
      "metadata": {
        "colab": {
          "base_uri": "https://localhost:8080/"
        },
        "id": "33DWp2cnh4t_",
        "outputId": "64f3eda7-8f7d-4d5a-aa49-ba500474595b"
      },
      "execution_count": 40,
      "outputs": [
        {
          "output_type": "execute_result",
          "data": {
            "text/plain": [
              "np.float64(0.33541019662496846)"
            ]
          },
          "metadata": {},
          "execution_count": 40
        }
      ]
    },
    {
      "cell_type": "code",
      "source": [
        "# cálculo do intervalo de confiança\n",
        "margem_erro = z_score * erro_padrao\n",
        "margem_erro"
      ],
      "metadata": {
        "colab": {
          "base_uri": "https://localhost:8080/"
        },
        "id": "oexUQwByh8tb",
        "outputId": "bc8d36da-e026-4b6d-af8f-e532d4005f3c"
      },
      "execution_count": 44,
      "outputs": [
        {
          "output_type": "execute_result",
          "data": {
            "text/plain": [
              "np.float64(0.5517006784350859)"
            ]
          },
          "metadata": {},
          "execution_count": 44
        }
      ]
    },
    {
      "cell_type": "code",
      "source": [
        "limite_inferior = media_amostral - margem_erro\n",
        "limite_inferior"
      ],
      "metadata": {
        "colab": {
          "base_uri": "https://localhost:8080/"
        },
        "id": "95tlk973iGD8",
        "outputId": "2fc28146-13f3-4d54-91e1-29c889542f3c"
      },
      "execution_count": 45,
      "outputs": [
        {
          "output_type": "execute_result",
          "data": {
            "text/plain": [
              "np.float64(22.348299321564912)"
            ]
          },
          "metadata": {},
          "execution_count": 45
        }
      ]
    },
    {
      "cell_type": "code",
      "source": [
        "limite_superior = media_amostral + margem_erro\n",
        "limite_superior"
      ],
      "metadata": {
        "colab": {
          "base_uri": "https://localhost:8080/"
        },
        "id": "9G3biBBUiHEd",
        "outputId": "703b6394-3883-4520-cea0-75f4d0e6abf1"
      },
      "execution_count": 46,
      "outputs": [
        {
          "output_type": "execute_result",
          "data": {
            "text/plain": [
              "np.float64(23.451700678435085)"
            ]
          },
          "metadata": {},
          "execution_count": 46
        }
      ]
    },
    {
      "cell_type": "code",
      "source": [
        "print(f\"O intervalo de confiança de 90% para a idade média da população é ({limite_inferior:.2f}, {limite_superior:.2f}) anos.\")"
      ],
      "metadata": {
        "colab": {
          "base_uri": "https://localhost:8080/"
        },
        "id": "R3YDwkAJiIui",
        "outputId": "09672231-f6af-4afd-8f5b-67b2ce2c0b0c"
      },
      "execution_count": 47,
      "outputs": [
        {
          "output_type": "stream",
          "name": "stdout",
          "text": [
            "O intervalo de confiança de 90% para a idade média da população é (22.35, 23.45) anos.\n"
          ]
        }
      ]
    },
    {
      "cell_type": "markdown",
      "source": [
        "### Intervalo de confiança para média com σ desconhecido:"
      ],
      "metadata": {
        "id": "AKYOhNEehFAe"
      }
    },
    {
      "cell_type": "markdown",
      "source": [
        "**Exercício 1:**"
      ],
      "metadata": {
        "id": "PobkYJMnjSNz"
      }
    },
    {
      "cell_type": "markdown",
      "source": [
        "Com um teste destrutivo, as amostras são destruídas no processo de teste. O teste de colisão de carros é um exemplo muito dispendioso de teste destrutivo. Suponha que tenhamos feito teste de colisão em 12 carros esporte sob uma diversidade de condições que simulam colisões típicas. A análise dos 12 carros danificados resulta em custos de conserto com média igual a US\\$26.227,00 e um desvio padrão de US\\$15.873,00. Sabe-se que os dados têm distribuição aproximadamente normal.\n",
        "\n",
        "X: Custo de conserto pós colisão .\n",
        "\n",
        "Dados disponíveis no enunciado:\n",
        "\n",
        "-   n=12 → Tamanho da amostra\n",
        "\n",
        "-   media= 26.227,00 → Quantidade média observada na amostra\n",
        "\n",
        "-   s= 15.873,00 → Desvio padrão AMOSTRAL."
      ],
      "metadata": {
        "id": "IuLzOWb3igNv"
      }
    },
    {
      "cell_type": "markdown",
      "source": [
        "A)  A melhor estimativa pontual de μ, o custo médio de conserto de todos os carros esporte envolvidos em colisões."
      ],
      "metadata": {
        "id": "aMJr9DwWijnj"
      }
    },
    {
      "cell_type": "markdown",
      "source": [
        "\n",
        "    US\\$26227,00"
      ],
      "metadata": {
        "id": "bdgR9kGsiwd-"
      }
    },
    {
      "cell_type": "markdown",
      "source": [
        "B)  A estimativa intervalar de 95% de confiança para μ"
      ],
      "metadata": {
        "id": "ZEKbPxDyikSR"
      }
    },
    {
      "cell_type": "code",
      "source": [
        "media = 26227\n",
        "s = 15873\n",
        "n = 12"
      ],
      "metadata": {
        "id": "DHpPWZ7fil6P"
      },
      "execution_count": 49,
      "outputs": []
    },
    {
      "cell_type": "code",
      "source": [
        "# valor crítico t\n",
        "tc = stats.t.ppf(1 - alpha/2, df=n-1)\n",
        "tc"
      ],
      "metadata": {
        "colab": {
          "base_uri": "https://localhost:8080/"
        },
        "id": "OSy0MAXhizSX",
        "outputId": "ea167a98-72df-4ce2-8433-6e434294f0a1"
      },
      "execution_count": 50,
      "outputs": [
        {
          "output_type": "execute_result",
          "data": {
            "text/plain": [
              "np.float64(1.7958848187036691)"
            ]
          },
          "metadata": {},
          "execution_count": 50
        }
      ]
    },
    {
      "cell_type": "code",
      "source": [
        "# erro amostral\n",
        "erro = tc * s / (n ** 0.5)\n",
        "erro"
      ],
      "metadata": {
        "colab": {
          "base_uri": "https://localhost:8080/"
        },
        "id": "9s8A0cbci2CL",
        "outputId": "2d006adc-a562-4544-c7f2-f0c82b60a7d3"
      },
      "execution_count": 51,
      "outputs": [
        {
          "output_type": "execute_result",
          "data": {
            "text/plain": [
              "np.float64(8228.996402043986)"
            ]
          },
          "metadata": {},
          "execution_count": 51
        }
      ]
    },
    {
      "cell_type": "code",
      "source": [
        "# intervalo de confiança\n",
        "intervalo_confianca = (media - erro, media + erro)\n",
        "print(intervalo_confianca)"
      ],
      "metadata": {
        "colab": {
          "base_uri": "https://localhost:8080/"
        },
        "id": "8uVTTO63i35N",
        "outputId": "4cdb39ca-0b73-4578-d2b4-748917b777c0"
      },
      "execution_count": 52,
      "outputs": [
        {
          "output_type": "stream",
          "name": "stdout",
          "text": [
            "(np.float64(17998.003597956013), np.float64(34455.99640204399))\n"
          ]
        }
      ]
    },
    {
      "cell_type": "markdown",
      "source": [
        "Considerando um nível de 95% de confiança podemos dizer que o intervalo de 17998,00 a 34456,00 contém o verdadeiro valor do custo médio para conserto de veículos submetidos a teste de colisão."
      ],
      "metadata": {
        "id": "RdLWBW4qi9G3"
      }
    },
    {
      "cell_type": "markdown",
      "source": [
        "**Exercício 1:**"
      ],
      "metadata": {
        "id": "qdoca8icjWQY"
      }
    },
    {
      "cell_type": "markdown",
      "source": [
        "Em uma pesquisa de orçamento familiar desenvolvida pelo instituto ZX, solicitou-se a uma amostra de 16 domicílios de certa região que anotassem suas despesas com alimentação durante uma semana. O resultado foi uma despesa média de R\\$330,00 com um desvio padrão de R\\$40,00. Construa e interprete um intervalo de 98% de confiança para a verdadeira despesa média semanal com alimentação por domicílio de toda a região. Suponha que a população tenha uma distribuição aproximadamente normal.\n",
        "\n",
        "X: Despesa média familiar .\n",
        "\n",
        "Dados disponíveis no enunciado:\n",
        "\n",
        "-   n=16 → Tamanho da amostra\n",
        "\n",
        "-   media= 330,00 → Quantidade média observada na amostra\n",
        "\n",
        "-   s= 40,00 → Desvio padrão AMOSTRAL."
      ],
      "metadata": {
        "id": "h8P726JUjYNa"
      }
    },
    {
      "cell_type": "code",
      "source": [
        "n = 16\n",
        "media_amostral = 330.00\n",
        "s = 40.00"
      ],
      "metadata": {
        "id": "mUjHs-Ski6c3"
      },
      "execution_count": 54,
      "outputs": []
    },
    {
      "cell_type": "code",
      "source": [
        "# intervalo de confiança de 98%\n",
        "alpha = 0.02  # nível de significância 2%\n",
        "\n",
        "t_score = st.t.ppf(1 - alpha/2, df=n-1)  # valor crítico da distribuição t de Student\n",
        "t_score"
      ],
      "metadata": {
        "colab": {
          "base_uri": "https://localhost:8080/"
        },
        "id": "jddAhf6Fjcyt",
        "outputId": "9af9de2b-06d9-4cf9-a4be-6458b32bfe90"
      },
      "execution_count": 56,
      "outputs": [
        {
          "output_type": "execute_result",
          "data": {
            "text/plain": [
              "np.float64(2.602480294995493)"
            ]
          },
          "metadata": {},
          "execution_count": 56
        }
      ]
    },
    {
      "cell_type": "code",
      "source": [
        "# cálculo do erro padrão\n",
        "erro_padrao = s / np.sqrt(n)\n",
        "erro_padrao"
      ],
      "metadata": {
        "colab": {
          "base_uri": "https://localhost:8080/"
        },
        "id": "rCzwzhqJjlID",
        "outputId": "bea15b1f-f588-47f0-8e4e-c0cf32187b74"
      },
      "execution_count": 58,
      "outputs": [
        {
          "output_type": "execute_result",
          "data": {
            "text/plain": [
              "np.float64(10.0)"
            ]
          },
          "metadata": {},
          "execution_count": 58
        }
      ]
    },
    {
      "cell_type": "code",
      "source": [
        "# cálculo do intervalo de confiança\n",
        "margem_erro = t_score * erro_padrao\n",
        "margem_erro"
      ],
      "metadata": {
        "colab": {
          "base_uri": "https://localhost:8080/"
        },
        "id": "3-7Vd1JqjoqO",
        "outputId": "3dbc494a-b660-4ff9-baf3-b7e00fd47661"
      },
      "execution_count": 59,
      "outputs": [
        {
          "output_type": "execute_result",
          "data": {
            "text/plain": [
              "np.float64(26.02480294995493)"
            ]
          },
          "metadata": {},
          "execution_count": 59
        }
      ]
    },
    {
      "cell_type": "code",
      "source": [
        "limite_inferior = media_amostral - margem_erro\n",
        "limite_inferior"
      ],
      "metadata": {
        "colab": {
          "base_uri": "https://localhost:8080/"
        },
        "id": "lNAwlX5QjsWi",
        "outputId": "9f011b69-fa7a-4201-b24b-c9bfc3bccdc1"
      },
      "execution_count": 60,
      "outputs": [
        {
          "output_type": "execute_result",
          "data": {
            "text/plain": [
              "np.float64(303.9751970500451)"
            ]
          },
          "metadata": {},
          "execution_count": 60
        }
      ]
    },
    {
      "cell_type": "code",
      "source": [
        "limite_superior = media_amostral + margem_erro\n",
        "limite_superior"
      ],
      "metadata": {
        "colab": {
          "base_uri": "https://localhost:8080/"
        },
        "id": "UjzyyUNEjuWg",
        "outputId": "510822e5-79d2-4887-f19c-9be964320088"
      },
      "execution_count": 61,
      "outputs": [
        {
          "output_type": "execute_result",
          "data": {
            "text/plain": [
              "np.float64(356.0248029499549)"
            ]
          },
          "metadata": {},
          "execution_count": 61
        }
      ]
    },
    {
      "cell_type": "code",
      "source": [
        "print(f\"O intervalo de confiança de 98% para a despesa média semanal com alimentação é ({limite_inferior:.2f}, {limite_superior:.2f}) reais.\")"
      ],
      "metadata": {
        "colab": {
          "base_uri": "https://localhost:8080/"
        },
        "id": "zXeRHZojjvwa",
        "outputId": "02c2a67b-99a4-44dc-ac47-05767f064195"
      },
      "execution_count": 63,
      "outputs": [
        {
          "output_type": "stream",
          "name": "stdout",
          "text": [
            "O intervalo de confiança de 98% para a despesa média semanal com alimentação é (303.98, 356.02) reais.\n"
          ]
        }
      ]
    },
    {
      "cell_type": "markdown",
      "source": [
        "### Intervalo de confiança para **proporção**:"
      ],
      "metadata": {
        "id": "I5z-k8vpj1r5"
      }
    },
    {
      "cell_type": "markdown",
      "source": [
        "**Exercício 1:**"
      ],
      "metadata": {
        "id": "cLegzGQ9j7g7"
      }
    },
    {
      "cell_type": "markdown",
      "source": [
        "Em uma linha de produção de certa peça cerâmica, colheu-se uma amostra de 125 itens, constatando-se 7 peças eram defeituosas. Com esses resultados amostrais, determine a estimativa intervalar de 87% de confiança da proporção de peças defeituosas produzidas pela empresa.\n",
        "\n",
        "Dados disponíveis no enunciado:\n",
        "\n",
        "-   n=125 itens → Tamanho da amostra\n",
        "\n",
        "-   x=7→ Número de peças defeituosas observado na amostra\n",
        "\n",
        "-   1-α=0,87 → Nível de confiança → 13%/2=6,5%=0,065\n",
        "\n",
        "-   𝑝=x/n=7/125=0,056→ Proporção de peças defeituosas observada na amostra.\n",
        "\n",
        "Suposições para o uso da distribuição normal:\n",
        "\n",
        "-   n\\. 𝑝\\>5 → 125.0,056 =7 \\>5 Ok!\n",
        "\n",
        "-   n.(1- 𝑝) \\>5 → 125.(1-0,056)=118 \\> 5 Ok!"
      ],
      "metadata": {
        "id": "m7P-eDIokCHr"
      }
    },
    {
      "cell_type": "code",
      "source": [
        "x = 7\n",
        "n = 125"
      ],
      "metadata": {
        "id": "6f6QrRcLkBI_"
      },
      "execution_count": 65,
      "outputs": []
    },
    {
      "cell_type": "code",
      "source": [
        "# valor crítico Z\n",
        "zc = stats.norm.ppf(1 - (1 - 0.87)/2)\n",
        "zc"
      ],
      "metadata": {
        "colab": {
          "base_uri": "https://localhost:8080/"
        },
        "id": "dvJlEzs4kDqS",
        "outputId": "2515fadb-2ad8-4f74-9b12-5640c1a19150"
      },
      "execution_count": 66,
      "outputs": [
        {
          "output_type": "execute_result",
          "data": {
            "text/plain": [
              "np.float64(1.514101887619284)"
            ]
          },
          "metadata": {},
          "execution_count": 66
        }
      ]
    },
    {
      "cell_type": "code",
      "source": [
        "# proporção\n",
        "p = x / n\n",
        "p"
      ],
      "metadata": {
        "colab": {
          "base_uri": "https://localhost:8080/"
        },
        "id": "OdSZK8bFkGF5",
        "outputId": "3ff280b1-050d-4838-c71c-bdcaa4df937d"
      },
      "execution_count": 67,
      "outputs": [
        {
          "output_type": "execute_result",
          "data": {
            "text/plain": [
              "0.056"
            ]
          },
          "metadata": {},
          "execution_count": 67
        }
      ]
    },
    {
      "cell_type": "code",
      "source": [
        "# erro amostral\n",
        "erro = zc * ((p * (1 - p)) / n) ** 0.5\n",
        "erro"
      ],
      "metadata": {
        "colab": {
          "base_uri": "https://localhost:8080/"
        },
        "id": "7PLQKFA2kIOA",
        "outputId": "fab92bf9-6f5c-4066-c4d3-f173c67d6c0b"
      },
      "execution_count": 68,
      "outputs": [
        {
          "output_type": "execute_result",
          "data": {
            "text/plain": [
              "np.float64(0.031137239346781177)"
            ]
          },
          "metadata": {},
          "execution_count": 68
        }
      ]
    },
    {
      "cell_type": "code",
      "source": [
        "# intervalo de confiança\n",
        "intervalo_confianca = (p - erro, p + erro)\n",
        "print(intervalo_confianca)"
      ],
      "metadata": {
        "colab": {
          "base_uri": "https://localhost:8080/"
        },
        "id": "AkK_KZkXkJ9p",
        "outputId": "baddd87c-10b7-4b7c-fa53-a614a67cd02b"
      },
      "execution_count": 69,
      "outputs": [
        {
          "output_type": "stream",
          "name": "stdout",
          "text": [
            "(np.float64(0.024862760653218824), np.float64(0.08713723934678118))\n"
          ]
        }
      ]
    },
    {
      "cell_type": "markdown",
      "source": [
        "Considerando um nível de 87% de confiança podemos dizer que a proporção de peças defeituosas produzidas pela empresa pode variar de 2,48% a 8,71% , com uma margem de erro de 3,11%."
      ],
      "metadata": {
        "id": "e6Oo5wWskR1_"
      }
    },
    {
      "cell_type": "markdown",
      "source": [
        "**Exercício 2:**"
      ],
      "metadata": {
        "id": "LdikF1vDkc5r"
      }
    },
    {
      "cell_type": "markdown",
      "source": [
        "De uma amostra de 230 pessoas selecionadas aleatoriamente participantes de um grande evento, 145 disseram estar satisfeitas com o atendimento recebido. Os organizadores desse evento afirmar que a proporção de pessoas satisfeitas é igual a 70%. Com um nível de 92% de confiança, é possível contestar a afirmação dos organizadores?\n",
        "\n",
        "Parâmetro: Proporção de pessoas satisfeitas com o atendimento recebido.\n",
        "\n",
        "Dados disponíveis no enunciado:\n",
        "\n",
        "-   n=230 pessoas → Tamanho da amostra\n",
        "\n",
        "-   x=145 → Número de pessoas satisfeitas observado na amostra\n",
        "\n",
        "-   1-α=0,92 → Nível de confiança\n",
        "\n",
        "-   𝑝=x/n=145/230=0,06304→ Proporção de pessoas satisfeitas observada na amostra.\n",
        "\n"
      ],
      "metadata": {
        "id": "Pm7-0p8gkg3e"
      }
    },
    {
      "cell_type": "code",
      "source": [
        "n = 230  # tamanho da amostra\n",
        "x = 145  # número de pessoas satisfeitas\n",
        "p_amostral = x / n  # proporção amostral\n",
        "p_hipotetica = 0.70  # proporção populacional afirmada pelos organizadores"
      ],
      "metadata": {
        "id": "hos20LnVkSMD"
      },
      "execution_count": 71,
      "outputs": []
    },
    {
      "cell_type": "code",
      "source": [
        "# Iintervalo de confiança de 92%\n",
        "alpha = 0.08  # nível de significância 8%\n",
        "\n",
        "z_score = st.norm.ppf(1 - alpha/2)  # valor crítico da distribuição normal padrão\n",
        "z_score"
      ],
      "metadata": {
        "colab": {
          "base_uri": "https://localhost:8080/"
        },
        "id": "3SVjIMZKkqOI",
        "outputId": "b6eafdb8-87e0-4728-dfef-887e6c8de81c"
      },
      "execution_count": 72,
      "outputs": [
        {
          "output_type": "execute_result",
          "data": {
            "text/plain": [
              "np.float64(1.7506860712521692)"
            ]
          },
          "metadata": {},
          "execution_count": 72
        }
      ]
    },
    {
      "cell_type": "code",
      "source": [
        "# cálculo do erro padrão\n",
        "erro_padrao = np.sqrt((p_hipotetica * (1 - p_hipotetica)) / n)\n",
        "erro_padrao"
      ],
      "metadata": {
        "colab": {
          "base_uri": "https://localhost:8080/"
        },
        "id": "dLLq_7Z_kvl7",
        "outputId": "5bcc60f7-a744-4bac-e8bc-e62bc10e7a81"
      },
      "execution_count": 74,
      "outputs": [
        {
          "output_type": "execute_result",
          "data": {
            "text/plain": [
              "np.float64(0.030216609311120097)"
            ]
          },
          "metadata": {},
          "execution_count": 74
        }
      ]
    },
    {
      "cell_type": "code",
      "source": [
        "# cálculo do valor do teste estatístico\n",
        "z_teste = (p_amostral - p_hipotetica) / erro_padrao\n",
        "z_teste"
      ],
      "metadata": {
        "colab": {
          "base_uri": "https://localhost:8080/"
        },
        "id": "XbSpaVpnkzLM",
        "outputId": "bf961d4d-6f50-43d2-e7fe-276d749399d4"
      },
      "execution_count": 75,
      "outputs": [
        {
          "output_type": "execute_result",
          "data": {
            "text/plain": [
              "np.float64(-2.302217852275814)"
            ]
          },
          "metadata": {},
          "execution_count": 75
        }
      ]
    },
    {
      "cell_type": "code",
      "source": [
        "# comparação com a região crítica\n",
        "if abs(z_teste) > z_score:\n",
        "    print(\"Com 92% de confiança, podemos contestar a afirmação dos organizadores.\")\n",
        "else:\n",
        "    print(\"Com 92% de confiança, não podemos contestar a afirmação dos organizadores.\")"
      ],
      "metadata": {
        "colab": {
          "base_uri": "https://localhost:8080/"
        },
        "id": "azQ0jJG2k2SH",
        "outputId": "ca129f54-09f5-4f13-fd5e-5fb2347db7fa"
      },
      "execution_count": 76,
      "outputs": [
        {
          "output_type": "stream",
          "name": "stdout",
          "text": [
            "Com 92% de confiança, podemos contestar a afirmação dos organizadores.\n"
          ]
        }
      ]
    }
  ]
}